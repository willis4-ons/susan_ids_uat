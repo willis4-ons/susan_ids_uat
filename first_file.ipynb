{
 "cells": [
  {
   "cell_type": "code",
   "execution_count": 1,
   "id": "f1a50d2b-ba9a-4fb7-a21f-9b81acd32786",
   "metadata": {},
   "outputs": [
    {
     "name": "stdout",
     "output_type": "stream",
     "text": [
      "This is the first notebook to be added to the Git_repo: susan_ids_uat \n"
     ]
    }
   ],
   "source": [
    "print('This is the first notebook to be added to the Git_repo: susan_ids_uat ')"
   ]
  },
  {
   "cell_type": "code",
   "execution_count": null,
   "id": "1d9123ee-ac5c-430c-b3c2-5f8ccc90cf06",
   "metadata": {},
   "outputs": [],
   "source": []
  }
 ],
 "metadata": {
  "environment": {
   "kernel": "python3",
   "name": "r-cpu.4-2.m100",
   "type": "gcloud",
   "uri": "gcr.io/deeplearning-platform-release/r-cpu.4-2:m100"
  },
  "kernelspec": {
   "display_name": "Python 3",
   "language": "python",
   "name": "python3"
  },
  "language_info": {
   "codemirror_mode": {
    "name": "ipython",
    "version": 3
   },
   "file_extension": ".py",
   "mimetype": "text/x-python",
   "name": "python",
   "nbconvert_exporter": "python",
   "pygments_lexer": "ipython3",
   "version": "3.7.12"
  }
 },
 "nbformat": 4,
 "nbformat_minor": 5
}
